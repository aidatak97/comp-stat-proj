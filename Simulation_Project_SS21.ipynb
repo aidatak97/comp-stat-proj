{
 "cells": [
  {
   "cell_type": "code",
   "execution_count": 1,
   "metadata": {
    "vscode": {
     "languageId": "r"
    }
   },
   "outputs": [],
   "source": [
    "load(\"results.RData\") #saved results after running \"code.R\"\n",
    "\n",
    "\n",
    "#otherwise (7 hours on 3 cores approx)\n",
    "#source(\"code.R\")"
   ]
  },
  {
   "cell_type": "markdown",
   "metadata": {},
   "source": [
    "--- \n",
    "Project for the course in Computational Statistics | Summer 2021, M.Sc. Economics, Bonn University | Aida Takhmazova\n",
    "\n",
    "# Evaluating Performance of Bayesian Classification Trees for High-Dimentional Prediction  <a class=\"tocSkip\">   \n",
    "---"
   ]
  },
  {
   "attachments": {},
   "cell_type": "markdown",
   "metadata": {},
   "source": [
    "<h1>Table of Contents<span class=\"tocSkip\"></span></h1>\n",
    "<div class=\"toc\"><ul class=\"toc-item\"><li><span><a href=\"#1.-Introduction\" data-toc-modified-id=\"1.-Introduction-1\">1. Introduction</a></span></li><li><span><a href=\"#2.-Description-of-The-Methods\" data-toc-modified-id=\"2.-Description-of-The-Methods-2\">2. Description of The Methods</a></span></li><li><span><a href=\"#3.-Description-of-The-Simulation-Set-Up\" data-toc-modified-id=\"3.-Description-of The-Simulation-Set-Up-3\">3. Description of The Simulation Set-Up</a></span></li><li><span><a href=\"#4.-Simualtion-Results\" data-toc-modified-id=\"4.-Simualtion-Results-4\">4. Simualtion Results</a></span></li><li><span><a href=\"#5.-Empirical-Application\" data-toc-modified-id=\"5.-Empirical-Application-5\">5. Empirical Application</a></span></li>  <li><span><a href=\"#6.-Conclusion\" data-toc-modified-id=\"6.-Conclusion-6\">6. Conclusion</a></span></li> <li><span><a href=\"#7.-References\" data-toc-modified-id=\"7.-References-7\">7. References</a></span></li><li><span><a href=\"#8.-Appendix\" data-toc-modified-id=\"8.-Appendix-8\">8. Appendix</a></span></li>"
   ]
  },
  {
   "cell_type": "markdown",
   "metadata": {},
   "source": [
    "---\n",
    "# 1. Introduction\n",
    "---"
   ]
  },
  {
   "cell_type": "markdown",
   "metadata": {},
   "source": [
    "Facing classification and regression tasks, ensembles of decision trees are a commonly used tool for reaching highly accurate predictions.  Particularly, random forests (Breiman 2001) is one of the most commonly used supervised machine learning methods.\n",
    "When it comes to high-dimensional settings, random forests tend to behave well, however, some limitations may happen when $P$, the number of predictors, is much larger than the number of observations $N$.  To address the high-dimensionality recently several promising probabilistically motivated methods based on ensembles of decision trees have been proposed. So-called Bayesian approaches (Chipman, George, and McCulloch 1998; Denison, Mallick, and Smith 1998) model the unknown function as the realization of a random tree. Ensemble of decision trees in this approach is obtained through posterior averaging.\n",
    "\n",
    "\n",
    "According to the literature, there is no clear signal favoring a particular method regarding the suitability of commonly used decision tree procedures with the high-dimensional data. On the one hand, in practice tools such as random forests often yield excellent predictions, with reports that they are robust to the presence of irrelevant predictors (Statnikov, Wang, and Aliferis 2008; Menze et al. 2011). On the other hand, Biau (2012) and Scornet et al. (2015) showed analytically that, for fixed $P$ and diverging $N$, the convergence rate for some types of random forests does not depend on the number of irrelevant predictors. Nevertheless, Zhu et al. (2015) showed that unmodified variants of the random forest algorithm perform suboptimally when $P$ is of comparable order to $N$.\n",
    "\n",
    "Returning to Bayesian approaches, Linero (2018) proposed a modified version of Bayesian additive regression trees (BART). He argues that instead of choosing predictors uniformly at random, as in Bayesian approach, choosing the probabilities to come from a Dirichlet distribution would induce more sparsity. Thus, the BART with the Dirichlet splitting rule prior is labeled as DART, standing for Dirichlet additive regression trees. Therefore, DART was promised by Linero to be resilient to the presence of large numbers of nuisance predictors attaining adaptivity to sparsity within the Bayesian framework in a computationally simple manner.\n",
    "\n",
    "\n",
    "Therefore, in the present simulation study, I focus on the classification task for a high-dimensional setting in order to evaluate the performance of the beforementioned, BART DART and RF, methods. For a binary response $y$, I consider the model\n",
    "\n",
    "$$P(Y = 1|x) = F(f(x)),\\mbox{ }x\\in\\mathbb{R}^P$$\n",
    "where $F$ denotes the standard Logistic CDF (logit link) or the standard Normal CDF (probit link). The goal is to have very flexible inference for the unknown function $f$. The main assumption throughout the study is the sparsity assumption that $f(x)$ depends on $x$ only through ($x_q : q ∈ Q_0$) where $Q_0 ⊆ \\{1, . . . , P\\}$ and the size of $Q_0$, $Q_0$ is assumed to be much smaller than $P$.\n",
    "\n",
    "The methods are evaluated on both the simulated and real data. As for the real data, I apply the methods for the microarray data. DNA microarray data provide the opportunity to assess the expression levels for thousands of genes simultaneously. One of the uses of this information is to classify cancer tumors. Researches indicate that gene expression profiling based on DNA microarray can offer potential and independent prognostic information in patients with newly diagnosed cancer (Rhodes DR et al., 2004; Trevino, V., Falciani, F., & Barrera-Saldaña, H. A., 2007). For example, Gravier et al. (2010) have considered small, invasive ductal carcinomas without axillary lymph node involvement (T1T2N0) to predict metastasis of small node-negative breast carcinoma. The data from Gravier et al. (2010) is used in this study to evaluate the performance of the chosen methods. The simulated data is thus generated as closely as possible to real microarray datasets based on available technical tools.\n",
    "\n",
    "\n",
    "The methods with the choice of the parameters justified by existing literature show that the results might be controversial. In the simplified cases for the DNA data, BART and DART seem to yield the best performance. On the other hand, in the complex data cases with large networks as well as in the case with the real data RF outperforms both BART and DART.\n",
    "\n",
    "\n",
    "The paper is organized as follows. Section 2 gives details of the methodology for the chosen approaches. Description of the Simulation Set-Up is given in Section 3. In Sections 4 and 5 I show the results on the evaluation of the methods on the simulated and real data respectively. Section 6 then concludes."
   ]
  },
  {
   "attachments": {},
   "cell_type": "markdown",
   "metadata": {},
   "source": [
    "---\n",
    "# 2. Description of The Methods\n",
    "---"
   ]
  },
  {
   "cell_type": "markdown",
   "metadata": {},
   "source": [
    "\\In the following subsections, I provide descriptions for the methods that were chosen for comparison: Bayesian Additive Regression Trees (BART) and its modification Dirichlet Additive Regression Trees (DART). Random Forest (RF) is chosen as a baseline for comparison for the reasons of its common usage.\n",
    "\n",
    "### BART (Chipman, George, and McCulloch, 2010)\n",
    "In short, BART is a Bayesian “sum-of-trees” model. In the spirit of “ensemble models”, each tree is constrained by a prior to be a weak learner so that it contributes a small amount to the overall fit.\n",
    "\n",
    "\n",
    "The function $f_0(x)$ is modeled as the realization\n",
    "of a random sum of decision trees $f(x)$ given by\n",
    "\n",
    "$$f(x)=\\sum\\limits_{t=1}^T\\tau_t(x)$$\n",
    "\n",
    "Each tree $\\tau_t(x)$ is determined by a binary tree structure $S_t$ consisting of the topology and splitting rules of the tree, and a vector $\\mu_t$ of parameters associated with the terminal nodes of $S_t$ such that $\\tau_t(x)=\\mu_{tl}$ if $x$ is associated with the terminal node $l$ of tree $t$.\n",
    "\n",
    "The models then are based on the following prior for all $f(x)$. Each binary tree structure $S_t$ is generated independently in the following manner. Let $q(d):\\mathbb{N}\\rightarrow [0,1]$. We initialize $S_t$ as a tree with a single node at depth $d=0$. This node is then given two child nodes of depth $d+1$ with probability $q(d)$ and is terminal otherwise. This process iterates for the nodes at depths $d=1,2,...$ untill all nodes are terminal. A common choice for $q(d)$ is \n",
    "$$q(d)=\\frac{\\gamma}{(1+d)^\\beta},\\mbox{ }\\gamma\\in(0,1),\\mbox{ }\\beta\\in[0,\\infty)$$.\n",
    "\n",
    "In simulations as well as in the application to the microarray dataset I set $\\gamma=0.75$ and $\\beta=10$ as these parameters were chosen based on Chipman, George, and McCulloch (2010) as well as on the results of the warm-up iterations.\n",
    "\n",
    "To each node, we assign a splitting rule of the form $[x_j\\leq C]$. Each $x$ associated with this internal node is then associated with one of its children according to whether $x$ satisfies the splitting rule or not. \n",
    "\n",
    "\n",
    "The predictor used to construct a splitting rule is chosen according to the probability vector $s=(s_1,...,s_p)$. By default, existing Bayesian decision trees typically fix $s_j=P^{-1}$ or $s\\sim D(1,...,1)$, one argument being that this provides a non-informative prior on $S_t$.There are several probabilities for the distribution of $C$ given that predictor $j$ is chosen to construct the splitting rule. Most implementations of BART draw $C$ uniformly from the collection of observed values $X_{1j},...,X_nj$ that lead to a rule which does not contradict any splitting rule higher in the tree. If no such rule exists, the new predictor is drawn according to $s$ and the same procedure applies. The node becomes terminal when it is impossible to construct a nontrivial splitting rule. \n",
    "\n",
    "Finally, associated with each terminal node $l$ in the tree, we draw a mean parameter $\\mu_{tl}\\sim N(0,\\sigma_mu^2/T)$ where $T$ is the number of trees in the ensemble.\n",
    "\n",
    "\n",
    "\n",
    "### DART (Linero, 2018)\n",
    "\n",
    "\n",
    "\n",
    "However, Linero (2018) argues that in a high-dimensional setting it is generally impossible to construct priors that are \"non-informative\". Linero claims that seemingly non-informative choices of priors actually convey dogmatic information which is the case if one takes $s_j=P^{-1}$ or $s\\sim D(1,...,1)$ and troubling behavior occurs when $P$ is large.\n",
    "\n",
    "As $P\\rightarrow\\infty$, the prior quickly concentrates on models in which $r$ predictors (where $r$ is the number of splitting rules in the ensemble) are included, the maximal number possible. Thus, rather than expressing ignorance about the ensemble, these priors express a preference for models that are highly non-sparse, with each included predictor accounting for as small a proportion of the signal as possible.\n",
    "\n",
    "Linero believes that while seemingly a minor modification of the typical prior on Bayesian decision trees, the prior\n",
    "\n",
    "$$(s_1,...,s_p)\\sim D(\\frac{\\alpha}{P},...,\\frac{\\alpha}{P})$$\n",
    "induces drastically behavior than fixing $s_j=P^{-1}$ or setting $s\\sim D(1,...,1)$. In particular, the preference for nonsparse models with low-signal predictors is removed.\n",
    "\n",
    "The choice of $\\alpha$ is highly important now as it plays a central role in determining the degree of sparsity the model expects. One approach is to place a prior on $\\alpha$. This allows for the data to determine an appropriate degree of sparsity. We consider priors of the form\n",
    "\n",
    "$$\\frac{\\alpha}{\\alpha+\\rho}\\sim Beta(a,b)$$\n",
    "for some hyperparameters $(a,b,\\rho)$. Following the authors I set $b=1$ and $\\rho=P$. With respect to the choice of $a$ it is important to note that the smaller $a$ the more it favors sparsity. Therefore, in my simulations and data I set $a=1$ following the authors choice and results of warm-up iterations. Number of trees were also fixed for BART and DART according to obseravtions by Linero.\n",
    "\n",
    "\n",
    "### Parameter settings\n",
    "\n",
    "* Parameters for RF were chosen based on  Zhu et al. (2015). \n",
    "\n",
    "<style type=\"text/css\">\n",
    ".tg  {border-collapse:collapse;border-spacing:0;}\n",
    ".tg td{border-color:black;border-style:solid;border-width:1px;font-family:Arial, sans-serif;font-size:14px;\n",
    "  overflow:hidden;padding:10px 5px;word-break:normal;}\n",
    ".tg th{border-color:black;border-style:solid;border-width:1px;font-family:Arial, sans-serif;font-size:14px;\n",
    "  font-weight:normal;overflow:hidden;padding:10px 5px;word-break:normal;}\n",
    ".tg .tg-9m7n{background-color:#000000;border-color:#ffffff;color:#333333;text-align:left;vertical-align:top}\n",
    ".tg .tg-0pky{border-color:inherit;text-align:left;vertical-align:top}\n",
    ".tg .tg-fymr{border-color:inherit;font-weight:bold;text-align:left;vertical-align:top}\n",
    "</style>\n",
    "<table class=\"tg\">\n",
    "<thead>\n",
    "  <tr>\n",
    "    <th class=\"tg-9m7n\">Method</th>\n",
    "    <th class=\"tg-0pky\">Parameters</th>\n",
    "  </tr>\n",
    "</thead>\n",
    "<tbody>\n",
    "  <tr>\n",
    "    <td class=\"tg-fymr\">BART (implementated in r package \"BART\")</td>\n",
    "    <td class=\"tg-0pky\">ntrees=20 , $\\gamma$=0.75, $\\beta$=10</td>\n",
    "  </tr>\n",
    "  <tr>\n",
    "    <td class=\"tg-fymr\">DART (implementated in r package \"BART\")</td>\n",
    "    <td class=\"tg-0pky\">ntrees=50 , $\\gamma$=0.75, $\\beta$=10, $\\rho$=P, a=1, b=1</td>\n",
    "  </tr>\n",
    "  <tr>\n",
    "    <td class=\"tg-fymr\">RF (implementated in r package \"randomForest\")</td>\n",
    "    <td class=\"tg-0pky\">ntrees=500, mtry=P, nodesize = $n^{1/3}$</td>\n",
    "  </tr>\n",
    "</tbody>\n",
    "</table>"
   ]
  },
  {
   "attachments": {},
   "cell_type": "markdown",
   "metadata": {},
   "source": [
    "---\n",
    "# 3. Description of The Simulation Set-Up\n",
    "---"
   ]
  },
  {
   "cell_type": "markdown",
   "metadata": {},
   "source": [
    "Motivated by the application for microarray data I use the R package \"Umpire\" (Zhang, J., Roebuck, P. L., & Coombes, K. R., 2012)  to produce a realistic set-up for the simulation study. \n",
    "\n",
    "\n",
    "“Ultimate Microarray Prediction, Inference, and Reality Engine” (Umpire) is a package composed of gene expression simulation tools. The authors' model incorporates both biological and technical noise on top of the true signal, transcriptional status, and block structures that mimic gene networks. More importantly, to simulate the multi-hit model of cancer development, their tool contains latent variables that link gene expression with binary outcomes. In the following subsections (i-ii) I follow Zhang, J., Roebuck, P. L., & Coombes, K. R. (2012) on choosing specifications and parameters' values.\n",
    "\n",
    "\n",
    "### i. Homogenous Gene Expression Model\n",
    "This subsection contains the description of the underlying statistical model for simulating gene expression data that is implemented in the Umpire package.\n",
    "\n",
    "#### i.A. Additive and Multiplicative Noise\n",
    "The observed signal ,$Y_{gi}$, for gene $g$ in sample $i$ is:\n",
    "\n",
    "$$Y_{gi}=exp(H_{gi})S_{gi}+E_{gi}$$\n",
    "where $S_{g_i}$ is true bilogical signal,  $H_{g_i}$ is multiplicative noise and $E_{g_i}$ is additive noise. Additive and multiplicative noise are modeled as normal distributions with the following parameters:\n",
    "\n",
    "$$E_{gi}\\sim N(10,20)$$\n",
    "$$H_{gi}\\sim N(0,0.1)$$\n",
    "#### i.B. Active and Inactive Genes\n",
    "The true biological signal $S_{gi}$ is modeled as a mixture:\n",
    "\n",
    "$$S_{gi}\\sim (1-z_g)\\delta_o+z_gT_{gi}$$\n",
    "where $\\delta_0$ is a point mass at 0, $z_g$ defines the activity state (1 = active, 0 = inactive) and $T_{gi}$ is the expression of a transcriptionally active gene. Activity is modeled in Umpire using a binomial distribution, $z_g ∼ Binom(p_0)$.\n",
    "\n",
    "#### i.C. Expression Distributions\n",
    "The expression, $T_{gi}$, of a transcriptionally active gene follows a log-normal distribution, $log(T_g) ∼ Normal(µ_g, σ_g)$.\n",
    "\n",
    "Both $µ_g$ and $σ_g$ are properties of the gene itself and the sample class. Within a given simulation, I place the hyper distribution on the log-normal parameters $µ_g$ and $σ_g$ with the following hyperparameters:\n",
    "\n",
    "$$µ_g \\sim N(6,1.5)$$\n",
    "\n",
    "$$µ_g \\sim N(28.11,44.25)$$\n",
    "\n",
    "\n",
    "\n",
    "#### i.D. Correlated blocks of genes\n",
    "It is natural to simulate microarray experiments from the perspective that genes are usually interconnected in networks and pathways, thus, in correlated blocks. In simulations, it is usually allowed the mean block size, $ξ$, to range from 1 to 1000, and the sizes of gene blocks to vary around the pre-defined mean block size. Namely, the block size follows a normal distribution $N(ξ,0.3ξ)$. The case $ξ = 1$ stands for the case when all genes are independent. At the other extreme, $ξ = 1000$ simulates large networks involving many genes. Thus, taking into account the computational costs, I allow parameter $ξ$ to vary with values equal to 5, 15 and 30.\n",
    "\n",
    "\n",
    "\n",
    "The correlation matrix $\\Omega_b$ for a block $b$ has 1's on the diagonal and $\\rho_b$ of the diagonal with $\\rho\\sim Beta(pw,(1 − p)w)$ and parameters $p=0.6$ and $w=5$.\n",
    "\n",
    "\n",
    "The log expression values of genes within a block follow a multivariate normal (MVN) distribution. The mean vector is defined by $µ_g$ as defined previously, and the covariance matrix $Σ$ is defined as:\n",
    "\n",
    "$$Σ_{i,j} = Ω_{i,j} ∗ σ_{gi} ∗ σ_{gj}$$\n",
    "where $σ_{gi}$ defines the standard deviation of gene $i$, which follows the inverse gamma distribution as described previously.\n",
    "\n",
    "As mentioned above, some genes would be transcriptionally inactive under certain biological conditions. Instead of simulating this active status for genes individually, whole blocks of genes are simulated as being transcriptionally active or inactive with 70% of genes being active. That models the idea that the entire pathway or network could be turned on or off under certain biological conditions.\n",
    "\n",
    "\n",
    "\n",
    "### ii. Multi-Hit Model of Cancer\n",
    "The multiple-hit theory of cancer was first proposed by Carl Nordling in 1953 and extended by Alfred Knudson in 1971. The basic idea of the multiple-hit theory of cancer (C. Nordlin, 1953; A. Knudson, 1971) is that cancer can only result after multiple insults (mutations; hits) to the DNA of a cell. The \"Umpire\" package uses the combinatorics of multiple hits to simulate heterogeneity in the population.\n",
    "\n",
    "Let $H$ be the number of possible hits (typically on the order of 10 to 20). In simulation experiment I fix $H=20$. The mean size of the block parameter $ξ$, thus, directly affects $P$ and $ξ=5,15,30$ is associated with $P≈600$, $P≈1500$ and $P≈3500$ respectively.\n",
    "A cancer subtype is defined as a collection of hits (in simulations only one subtype is considered as most real data focus on one particular subtype). In the simplest scenario employed in the simulation study, each subtype is equally likely to occur in the population. \n",
    "\n",
    "To simulate a set of patients, first of all, they are assigned to one of the cancer subtypes (with probabilities equal to the prevalences). Individual hits are then used as (unobserved) latent variables that influence gene expression and binary outcomes.\n",
    "\n",
    "Specifically, let $Z_h$ be a binary variable that indicates the presence ($Z_h = 1$) or absence ($Z_h = 0$) of a hit $h$.\n",
    "Then the probability $p$ of an unfavorable (binary) outcome is simulated from the logistic model\n",
    "\n",
    "\n",
    "$$log(\\frac{p}{1-p})=\\sum\\limits_{h=1}^H\\beta_iZ_i$$\n",
    "where $\\beta_i\\sim N(0,\\sigma_B)$\n",
    "\n",
    "\n",
    "Finally, each hit is assumed to affect the expression of one correlated block of genes (representing the effect on a single biological pathway) by altering the mean expression of the genes in that block. The absolute change of the mean expression values on a log scale for a block of genes is given by $\\Delta g \\sim Gamma(10, 10)$. A gene in the changed block is randomly assigned to be up-regulated or down-regulated in cancer patients.\n",
    "\n",
    "\n",
    "\n"
   ]
  },
  {
   "cell_type": "markdown",
   "metadata": {},
   "source": [
    "---\n",
    "# 4. Simualtion Results\n",
    "---"
   ]
  },
  {
   "cell_type": "markdown",
   "metadata": {},
   "source": [
    "I evaluate BART, DART and RF under several simulation settings:\n",
    "\n",
    "* As mentioned in Section 3, I consider different mean sizes of the blocks ($ξ$) which I will now refer as $sb$ with $sb=5,15,30$. However, $sb$ directly affects $P$ ($P≈600, 1500,3500$, respectively) in the simulated microarrays. Thus, the change in the mean size of the blocks can be also refered as the different dimentions setting. Nevertheless, it will not only cover the precision of the microarray but also the assumptions about the size of the networks.\n",
    "\n",
    "* The number of observations $N$ is varied with $N=50,100,200$ as there are typically no more observations in microarray data (Lavine, B. K., Davidson, C. E., & Rayens, W. S., 2004).\n",
    "\n",
    "\n",
    "For evaluation metrics, I considered the precision, recall, and F1 scores, given by prec = TP/(TP + FP), rec = TP/(TP + FN), and F1 = 2 · prec · rec/(prec + rec), respectively, where TP number of outcomes where the model correctly predicts the positive class, FP number of outcomes where the model falsely predicts the positive class and FN denotes the number of outcomes where the model falsely predicts the negative class. The F1 score is often used as an overall summary that balances precision and recall. The test set always contain 100 observations, the simulations repeated 100 times for each setting and the results are averaged (in the cases where it was possible to calculate the suggested measures; accuracy is taken as control measure because it can be calculated in every case) over 100 runs.\n",
    "\n"
   ]
  },
  {
   "cell_type": "code",
   "execution_count": 2,
   "metadata": {
    "vscode": {
     "languageId": "r"
    }
   },
   "outputs": [
    {
     "data": {
      "image/png": "[encoded data removed]",
      "text/plain": [
       "Plot with title \"Figure 1: F1 scores for evaluating methods (N=50)\""
      ]
     },
     "metadata": {
      "image/png": {
       "height": 300,
       "width": 900
      }
     },
     "output_type": "display_data"
    }
   ],
   "source": [
    "options(repr.plot.width=15, repr.plot.height=5)\n",
    "boxplot(ev5$F1BART[1:100],ev5$F1DART[1:100],ev5$F1RF[1:100],\n",
    "        ev15$F1BART[1:100],ev15$F1DART[1:100],ev15$F1RF[1:100],\n",
    "        ev30$F1BART[1:100],ev30$F1DART[1:100],ev30$F1RF[1:100],\n",
    "        names = c(\"BART(sb=5)\", \"DART(sb=5)\", \"RF(sb=5)\",\n",
    "        \"BART(sb=15)\", \"DART(sb=15)\", \"RF(sb=15)\",\n",
    "        \"BART(sb=30)\", \"DART(sb=30)\", \"RF(sb=30)\"),\n",
    "       main=\"Figure 1: F1 scores for evaluating methods (N=50)\",\n",
    "        ylab=\"F1\",\n",
    "        xlab=\"Method and mean size of the block (associated with P)\")"
   ]
  },
  {
   "cell_type": "markdown",
   "metadata": {},
   "source": [
    "***Figure 1*** shows the F1 score results for the case when $N=50$ (***Figure 2*** and ***Figure 3*** for case when $N=100$ and $N=200$ can be found in the Appendix). It is seen that BART seems to have the best performance irregardless of the size of the networks or number of dimensions. Nevertheless, DART is very close in its performance. With the increase in the number of dimensions, the difference between BART/DART and RF becomes less obvious as RF seems to perform not much worse than BART or DART. \n",
    "\n",
    "However, fixing the sample size, BART and DART are more stable in their performance than RF across different $P$. From ***Figure 1*** it is seen that the interval between the minimum and maximum performance is the biggest for RF and the smallest for BART. The same tendency is observed when $N=100$ and $N=200$."
   ]
  },
  {
   "cell_type": "markdown",
   "metadata": {},
   "source": [
    "##### Table 1: Results of the simulation study for sb = 5 and associated P  ≈ 600. The best result for each category is inside exclamation points."
   ]
  },
  {
   "cell_type": "code",
   "execution_count": 3,
   "metadata": {
    "vscode": {
     "languageId": "r"
    }
   },
   "outputs": [
    {
     "data": {
      "text/html": [
       "<table class=\"dataframe\">\n",
       "<caption>A matrix: 4 × 12 of type chr</caption>\n",
       "<thead>\n",
       "\t<tr><th></th><th scope=col>N=50</th><th scope=col></th><th scope=col></th><th scope=col></th><th scope=col>N=100</th><th scope=col></th><th scope=col></th><th scope=col></th><th scope=col>N=200</th><th scope=col></th><th scope=col></th><th scope=col></th></tr>\n",
       "</thead>\n",
       "<tbody>\n",
       "\t<tr><th scope=row></th><td>recall    </td><td>precision </td><td>F1        </td><td>accuracy  </td><td>recall    </td><td>precision </td><td>F1        </td><td>accuracy  </td><td>recall    </td><td>precision </td><td>F1        </td><td>accuracy  </td></tr>\n",
       "\t<tr><th scope=row>BART</th><td>0.5513    </td><td>! 0.6342 !</td><td>! 0.7363 !</td><td>! 0.6614 !</td><td>! 0.4982 !</td><td>! 0.6201 !</td><td>! 0.7067 !</td><td>! 0.6455 !</td><td>0.4975    </td><td>! 0.5784 !</td><td>! 0.6596 !</td><td>0.6332    </td></tr>\n",
       "\t<tr><th scope=row>DART</th><td>! 0.5515 !</td><td>0.6326    </td><td>0.6921    </td><td>0.6603    </td><td>0.4941    </td><td>0.5805    </td><td>0.6408    </td><td>0.6429    </td><td>! 0.5119 !</td><td>0.5727    </td><td>0.646     </td><td>! 0.6373 !</td></tr>\n",
       "\t<tr><th scope=row>RF</th><td>0.5392    </td><td>0.5771    </td><td>0.6281    </td><td>0.6579    </td><td>0.497     </td><td>0.5427    </td><td>0.5533    </td><td>0.6337    </td><td>0.5018    </td><td>0.5484    </td><td>0.5826    </td><td>0.6306    </td></tr>\n",
       "</tbody>\n",
       "</table>\n"
      ],
      "text/latex": [
       "A matrix: 4 × 12 of type chr\n",
       "\\begin{tabular}{r|llllllllllll}\n",
       "  & N=50 &  &  &  & N=100 &  &  &  & N=200 &  &  & \\\\\n",
       "\\hline\n",
       "\t & recall     & precision  & F1         & accuracy   & recall     & precision  & F1         & accuracy   & recall     & precision  & F1         & accuracy  \\\\\n",
       "\tBART & 0.5513     & ! 0.6342 ! & ! 0.7363 ! & ! 0.6614 ! & ! 0.4982 ! & ! 0.6201 ! & ! 0.7067 ! & ! 0.6455 ! & 0.4975     & ! 0.5784 ! & ! 0.6596 ! & 0.6332    \\\\\n",
       "\tDART & ! 0.5515 ! & 0.6326     & 0.6921     & 0.6603     & 0.4941     & 0.5805     & 0.6408     & 0.6429     & ! 0.5119 ! & 0.5727     & 0.646      & ! 0.6373 !\\\\\n",
       "\tRF & 0.5392     & 0.5771     & 0.6281     & 0.6579     & 0.497      & 0.5427     & 0.5533     & 0.6337     & 0.5018     & 0.5484     & 0.5826     & 0.6306    \\\\\n",
       "\\end{tabular}\n"
      ],
      "text/markdown": [
       "\n",
       "A matrix: 4 × 12 of type chr\n",
       "\n",
       "| <!--/--> | N=50 | <!----> | <!----> | <!----> | N=100 | <!----> | <!----> | <!----> | N=200 | <!----> | <!----> | <!----> |\n",
       "|---|---|---|---|---|---|---|---|---|---|---|---|---|\n",
       "| <!----> | recall     | precision  | F1         | accuracy   | recall     | precision  | F1         | accuracy   | recall     | precision  | F1         | accuracy   |\n",
       "| BART | 0.5513     | ! 0.6342 ! | ! 0.7363 ! | ! 0.6614 ! | ! 0.4982 ! | ! 0.6201 ! | ! 0.7067 ! | ! 0.6455 ! | 0.4975     | ! 0.5784 ! | ! 0.6596 ! | 0.6332     |\n",
       "| DART | ! 0.5515 ! | 0.6326     | 0.6921     | 0.6603     | 0.4941     | 0.5805     | 0.6408     | 0.6429     | ! 0.5119 ! | 0.5727     | 0.646      | ! 0.6373 ! |\n",
       "| RF | 0.5392     | 0.5771     | 0.6281     | 0.6579     | 0.497      | 0.5427     | 0.5533     | 0.6337     | 0.5018     | 0.5484     | 0.5826     | 0.6306     |\n",
       "\n"
      ],
      "text/plain": [
       "     N=50                                        N=100                \n",
       "     recall     precision  F1         accuracy   recall     precision \n",
       "BART 0.5513     ! 0.6342 ! ! 0.7363 ! ! 0.6614 ! ! 0.4982 ! ! 0.6201 !\n",
       "DART ! 0.5515 ! 0.6326     0.6921     0.6603     0.4941     0.5805    \n",
       "RF   0.5392     0.5771     0.6281     0.6579     0.497      0.5427    \n",
       "                           N=200                                      \n",
       "     F1         accuracy   recall     precision  F1         accuracy  \n",
       "BART ! 0.7067 ! ! 0.6455 ! 0.4975     ! 0.5784 ! ! 0.6596 ! 0.6332    \n",
       "DART 0.6408     0.6429     ! 0.5119 ! 0.5727     0.646      ! 0.6373 !\n",
       "RF   0.5533     0.6337     0.5018     0.5484     0.5826     0.6306    "
      ]
     },
     "metadata": {},
     "output_type": "display_data"
    }
   ],
   "source": [
    "result_table(simulations_res5)"
   ]
  },
  {
   "cell_type": "markdown",
   "metadata": {},
   "source": [
    "According to ***Table 1*** in the case of small networks BART outperforms DART when the number of observations small but when $N=200$ DART achieves the highers F1 score. All the methods, including RF, show the best performance when $N=50$."
   ]
  },
  {
   "cell_type": "markdown",
   "metadata": {},
   "source": [
    "##### Table 2: Results of the simulation study for sb = 30 and associated P  ≈ 3500. The best result for each category is inside exclamation points."
   ]
  },
  {
   "cell_type": "code",
   "execution_count": 4,
   "metadata": {
    "vscode": {
     "languageId": "r"
    }
   },
   "outputs": [
    {
     "data": {
      "text/html": [
       "<table class=\"dataframe\">\n",
       "<caption>A matrix: 4 × 12 of type chr</caption>\n",
       "<thead>\n",
       "\t<tr><th></th><th scope=col>N=50</th><th scope=col></th><th scope=col></th><th scope=col></th><th scope=col>N=100</th><th scope=col></th><th scope=col></th><th scope=col></th><th scope=col>N=200</th><th scope=col></th><th scope=col></th><th scope=col></th></tr>\n",
       "</thead>\n",
       "<tbody>\n",
       "\t<tr><th scope=row></th><td>recall    </td><td>precision </td><td>F1        </td><td>accuracy  </td><td>recall    </td><td>precision </td><td>F1        </td><td>accuracy  </td><td>recall    </td><td>precision </td><td>F1        </td><td>accuracy  </td></tr>\n",
       "\t<tr><th scope=row>BART</th><td>0.5378    </td><td>! 0.6499 !</td><td>! 0.7614 !</td><td>! 0.6625 !</td><td>0.5864    </td><td>! 0.6332 !</td><td>! 0.7427 !</td><td>0.6478    </td><td>0.4951    </td><td>! 0.6189 !</td><td>! 0.7025 !</td><td>0.65      </td></tr>\n",
       "\t<tr><th scope=row>DART</th><td>0.5296    </td><td>0.6407    </td><td>0.7178    </td><td>0.6583    </td><td>! 0.5918 !</td><td>0.6185    </td><td>0.6905    </td><td>! 0.6483 !</td><td>0.492     </td><td>0.6004    </td><td>0.6832    </td><td>0.6484    </td></tr>\n",
       "\t<tr><th scope=row>RF</th><td>! 0.5385 !</td><td>0.5809    </td><td>0.577     </td><td>0.6519    </td><td>0.5738    </td><td>0.6038    </td><td>0.6436    </td><td>0.6457    </td><td>! 0.5078 !</td><td>0.5998    </td><td>0.6151    </td><td>! 0.6529 !</td></tr>\n",
       "</tbody>\n",
       "</table>\n"
      ],
      "text/latex": [
       "A matrix: 4 × 12 of type chr\n",
       "\\begin{tabular}{r|llllllllllll}\n",
       "  & N=50 &  &  &  & N=100 &  &  &  & N=200 &  &  & \\\\\n",
       "\\hline\n",
       "\t & recall     & precision  & F1         & accuracy   & recall     & precision  & F1         & accuracy   & recall     & precision  & F1         & accuracy  \\\\\n",
       "\tBART & 0.5378     & ! 0.6499 ! & ! 0.7614 ! & ! 0.6625 ! & 0.5864     & ! 0.6332 ! & ! 0.7427 ! & 0.6478     & 0.4951     & ! 0.6189 ! & ! 0.7025 ! & 0.65      \\\\\n",
       "\tDART & 0.5296     & 0.6407     & 0.7178     & 0.6583     & ! 0.5918 ! & 0.6185     & 0.6905     & ! 0.6483 ! & 0.492      & 0.6004     & 0.6832     & 0.6484    \\\\\n",
       "\tRF & ! 0.5385 ! & 0.5809     & 0.577      & 0.6519     & 0.5738     & 0.6038     & 0.6436     & 0.6457     & ! 0.5078 ! & 0.5998     & 0.6151     & ! 0.6529 !\\\\\n",
       "\\end{tabular}\n"
      ],
      "text/markdown": [
       "\n",
       "A matrix: 4 × 12 of type chr\n",
       "\n",
       "| <!--/--> | N=50 | <!----> | <!----> | <!----> | N=100 | <!----> | <!----> | <!----> | N=200 | <!----> | <!----> | <!----> |\n",
       "|---|---|---|---|---|---|---|---|---|---|---|---|---|\n",
       "| <!----> | recall     | precision  | F1         | accuracy   | recall     | precision  | F1         | accuracy   | recall     | precision  | F1         | accuracy   |\n",
       "| BART | 0.5378     | ! 0.6499 ! | ! 0.7614 ! | ! 0.6625 ! | 0.5864     | ! 0.6332 ! | ! 0.7427 ! | 0.6478     | 0.4951     | ! 0.6189 ! | ! 0.7025 ! | 0.65       |\n",
       "| DART | 0.5296     | 0.6407     | 0.7178     | 0.6583     | ! 0.5918 ! | 0.6185     | 0.6905     | ! 0.6483 ! | 0.492      | 0.6004     | 0.6832     | 0.6484     |\n",
       "| RF | ! 0.5385 ! | 0.5809     | 0.577      | 0.6519     | 0.5738     | 0.6038     | 0.6436     | 0.6457     | ! 0.5078 ! | 0.5998     | 0.6151     | ! 0.6529 ! |\n",
       "\n"
      ],
      "text/plain": [
       "     N=50                                        N=100                \n",
       "     recall     precision  F1         accuracy   recall     precision \n",
       "BART 0.5378     ! 0.6499 ! ! 0.7614 ! ! 0.6625 ! 0.5864     ! 0.6332 !\n",
       "DART 0.5296     0.6407     0.7178     0.6583     ! 0.5918 ! 0.6185    \n",
       "RF   ! 0.5385 ! 0.5809     0.577      0.6519     0.5738     0.6038    \n",
       "                           N=200                                      \n",
       "     F1         accuracy   recall     precision  F1         accuracy  \n",
       "BART ! 0.7427 ! 0.6478     0.4951     ! 0.6189 ! ! 0.7025 ! 0.65      \n",
       "DART 0.6905     ! 0.6483 ! 0.492      0.6004     0.6832     0.6484    \n",
       "RF   0.6436     0.6457     ! 0.5078 ! 0.5998     0.6151     ! 0.6529 !"
      ]
     },
     "metadata": {},
     "output_type": "display_data"
    }
   ],
   "source": [
    "result_table(simulations_res30)"
   ]
  },
  {
   "cell_type": "markdown",
   "metadata": {},
   "source": [
    "***Table 2*** provides the results on the case with large networks and higher number of predictors. It is seen that in this case RF competing with DART and BART with proposed by the literature parameters. RF achieves the best recall for $N=50$ and $N=200$. Nevertheless, BART still achieves the highest F1 score for any number of observations. ***Table 3*** with the results on the medium size of the networks can be found in the Appendix.\n",
    "\n",
    "To sum up, BART proved to be the most stable method across different settings. Although DART was promised to be an adaptation of the BART method for high-dimensional data, it performs slightly worse than BART. RF seems to achieve performance close to BART and DART, however, its performance turned out to be less stable for the simulated data."
   ]
  },
  {
   "cell_type": "markdown",
   "metadata": {},
   "source": [
    "---\n",
    "# 5. Empirical Application\n",
    "---"
   ]
  },
  {
   "cell_type": "markdown",
   "metadata": {},
   "source": [
    "I illustrate BART and DART on the dataset from paper by Gravier et al. (2010). Using comparative genomic hybridization arrays, they examined 168 patients over a five-year period. The 111 patients with no event after diagnosis were labelled good, and the 57 patients with early metastasis were labelled poor.\n",
    "\n",
    "\n",
    "BART and DART were evaluated by a ten-fold cross-validation estimate for precision, recall and F1 score defined as previously. The averaged results are presented in ***Table 4***."
   ]
  },
  {
   "cell_type": "markdown",
   "metadata": {},
   "source": [
    "##### Table 4: Performance on the dataset N = 168,  P  = 2905. The best result for each category is inside exclamation points."
   ]
  },
  {
   "cell_type": "code",
   "execution_count": 5,
   "metadata": {
    "vscode": {
     "languageId": "r"
    }
   },
   "outputs": [
    {
     "data": {
      "text/html": [
       "<table class=\"dataframe\">\n",
       "<caption>A matrix: 3 × 4 of type chr</caption>\n",
       "<thead>\n",
       "\t<tr><th></th><th scope=col>recall</th><th scope=col>precision</th><th scope=col>F1</th><th scope=col>accuracy</th></tr>\n",
       "</thead>\n",
       "<tbody>\n",
       "\t<tr><th scope=row>BART</th><td>0.19    </td><td>! 0.9375 !</td><td>0.3676    </td><td>0.7124    </td></tr>\n",
       "\t<tr><th scope=row>DART</th><td>0.2433  </td><td>0.6648    </td><td>0.4082    </td><td>0.6945    </td></tr>\n",
       "\t<tr><th scope=row>RF</th><td>! 0.61 !</td><td>0.9083    </td><td>! 0.7022 !</td><td>! 0.8327 !</td></tr>\n",
       "</tbody>\n",
       "</table>\n"
      ],
      "text/latex": [
       "A matrix: 3 × 4 of type chr\n",
       "\\begin{tabular}{r|llll}\n",
       "  & recall & precision & F1 & accuracy\\\\\n",
       "\\hline\n",
       "\tBART & 0.19     & ! 0.9375 ! & 0.3676     & 0.7124    \\\\\n",
       "\tDART & 0.2433   & 0.6648     & 0.4082     & 0.6945    \\\\\n",
       "\tRF & ! 0.61 ! & 0.9083     & ! 0.7022 ! & ! 0.8327 !\\\\\n",
       "\\end{tabular}\n"
      ],
      "text/markdown": [
       "\n",
       "A matrix: 3 × 4 of type chr\n",
       "\n",
       "| <!--/--> | recall | precision | F1 | accuracy |\n",
       "|---|---|---|---|---|\n",
       "| BART | 0.19     | ! 0.9375 ! | 0.3676     | 0.7124     |\n",
       "| DART | 0.2433   | 0.6648     | 0.4082     | 0.6945     |\n",
       "| RF | ! 0.61 ! | 0.9083     | ! 0.7022 ! | ! 0.8327 ! |\n",
       "\n"
      ],
      "text/plain": [
       "     recall   precision  F1         accuracy  \n",
       "BART 0.19     ! 0.9375 ! 0.3676     0.7124    \n",
       "DART 0.2433   0.6648     0.4082     0.6945    \n",
       "RF   ! 0.61 ! 0.9083     ! 0.7022 ! ! 0.8327 !"
      ]
     },
     "metadata": {},
     "output_type": "display_data"
    }
   ],
   "source": [
    "CV_results"
   ]
  },
  {
   "cell_type": "markdown",
   "metadata": {},
   "source": [
    "Although BART achieves the highest precision, RF outperforms both methods according to F1 score. This partly supports the finding in the simulation study for large networks (RF was shown to have the highest recall). However, BART and DART seem to be significantly worse than RF in terms of F1 score. Nevertheless, comparing the results by accuracy, the difference in the performance of the methods is not that dramatic. Combined with high values for precisions and small values for recall, this means that BART/DART performed as a biased predictor and predicted mostly negative classes."
   ]
  },
  {
   "cell_type": "markdown",
   "metadata": {},
   "source": [
    "---\n",
    "# 6. Conclusion\n",
    "---"
   ]
  },
  {
   "cell_type": "markdown",
   "metadata": {},
   "source": [
    "In this study, I demonstrated the performance of Bayesian Classification Trees for high-dimensional prediction with complex data structures forming biological pathways. In simulations, BART proved to have the best performance in most of the settings whereas DART mostly outperformed BART in the cases with small sizes of the networks. Unfortunately, for the closest to real data case with larger networks RF seemed to perform better as well as on the real data. Nevertheless, BART and DART showed more stable performance compared to RF across all of the settings.\n",
    "\n",
    "\n",
    "Although BART and DART methodologies provide suitable theoretical applicability for the high-dimensional setting the results of the simulation study as well as application on the real data set show that the RF methodology can outperform BART and DART in the case of large networks. The parameters for BART and DART for this study were chosen according to the existing literature and justified theoretically. Nevertheless, the results show that it might be the case that these parameters should be treated as tuning parameters and selected by cross-validation. However, the choice of the tuning parameters was out of the scope for this study and might be suggested as a future direction to study."
   ]
  },
  {
   "cell_type": "markdown",
   "metadata": {},
   "source": [
    "---\n",
    "# 7. References\n",
    "---"
   ]
  },
  {
   "cell_type": "markdown",
   "metadata": {},
   "source": [
    "* Biau, G. (2012). Analysis of a random forests model. The Journal of Machine Learning Research, 13, 1063-1095.\n",
    "\n",
    "\n",
    "* Breiman, L. (2001). Random forests. Machine learning, 45(1), 5-32.\n",
    "\n",
    "\n",
    "* Chipman, H. A., George, E. I., & McCulloch, R. E. (2010). BART: Bayesian additive regression trees. The Annals of Applied Statistics, 4(1), 266-298.\n",
    "\n",
    "\n",
    "\n",
    "* Chipman, H. A., George, E. I., & McCulloch, R. E. (1998). Bayesian CART model search. Journal of the American Statistical Association, 93(443), 935-948.\n",
    "\n",
    "\n",
    "\n",
    "\n",
    "* Denison, D. G., Mallick, B. K., & Smith, A. F. (1998). A bayesian cart algorithm. Biometrika, 85(2), 363-377.\n",
    "\n",
    "\n",
    "* Gravier, E., Pierron, G., Vincent‐Salomon, A., Gruel, N., Raynal, V., Savignoni, A., ... & Delattre, O. (2010). A prognostic DNA signature for T1T2 node‐negative breast cancer patients. Genes, chromosomes and cancer, 49(12), 1125-1134.\n",
    "\n",
    "\n",
    "\n",
    "\n",
    "* Lavine, B. K., Davidson, C. E., & Rayens, W. S. (2004). Machine learning based pattern recognition applied to microarray data. Combinatorial chemistry & high throughput screening, 7(2), 115-131.\n",
    "\n",
    "\n",
    "\n",
    "\n",
    "\n",
    "* Linero, A. R. (2018). Bayesian regression trees for high-dimensional prediction and variable selection. Journal of the American Statistical Association, 113(522), 626-636.\n",
    "\n",
    "\n",
    "* Menze, B. H., Kelm, B. M., Splitthoff, D. N., Koethe, U., & Hamprecht, F. A. (2011, September). On oblique random forests. In Joint European Conference on Machine Learning and Knowledge Discovery in Databases (pp. 453-469). Springer, Berlin, Heidelberg.\n",
    "\n",
    "\n",
    "\n",
    "* Rhodes, D. R., Yu, J., Shanker, K., Deshpande, N., Varambally, R., Ghosh, D., ... & Chinnaiyan, A. M. (2004). Large-scale meta-analysis of cancer microarray data identifies common transcriptional profiles of neoplastic transformation and progression. Proceedings of the National Academy of Sciences, 101(25), 9309-9314.\n",
    "\n",
    "\n",
    "* Scornet, E., Biau, G., & Vert, J. P. (2015). Consistency of random forests. The Annals of Statistics, 43(4), 1716-1741.\n",
    "\n",
    "* Statnikov, A., Wang, L., & Aliferis, C. F. (2008). A comprehensive comparison of random forests and support vector machines for microarray-based cancer classification. BMC bioinformatics, 9(1), 1-10.\n",
    "\n",
    "\n",
    "* Trevino, V., Falciani, F., & Barrera-Saldaña, H. A. (2007). DNA microarrays: a powerful genomic tool for biomedical and clinical research. Molecular Medicine, 13(9), 527-541.\n",
    "\n",
    "\n",
    "\n",
    "* Zhang, J., Roebuck, P. L., & Coombes, K. R. (2012). Simulating gene expression data to estimate sample size for class and biomarker discovery. Int. J. Adv. Life Sci, 4, 44-51.\n",
    "\n",
    "\n",
    "* Zhu, R., Zeng, D., & Kosorok, M. R. (2015). Reinforcement learning trees. Journal of the American Statistical Association, 110(512), 1770-1784.\n",
    "\n",
    "\n"
   ]
  },
  {
   "cell_type": "markdown",
   "metadata": {},
   "source": [
    "---\n",
    "# 8. Appendix\n",
    "---"
   ]
  },
  {
   "cell_type": "code",
   "execution_count": 6,
   "metadata": {
    "vscode": {
     "languageId": "r"
    }
   },
   "outputs": [
    {
     "data": {
      "image/png": "[encoded data removed]",
      "text/plain": [
       "Plot with title \"Figure 2: F1 scores for evaluating methods (N=100)\""
      ]
     },
     "metadata": {
      "image/png": {
       "height": 300,
       "width": 900
      }
     },
     "output_type": "display_data"
    }
   ],
   "source": [
    "boxplot(ev5$F1BART[101:200],ev5$F1DART[101:200],ev5$F1RF[101:200],\n",
    "        ev15$F1BART[101:200],ev15$F1DART[101:200],ev15$F1RF[101:200],\n",
    "        ev30$F1BART[101:200],ev30$F1DART[101:200],ev30$F1RF[101:200],\n",
    "        names = c(\"BART(sb=5)\", \"DART(sb=5)\", \"RF(sb=5)\",\n",
    "        \"BART(sb=15)\", \"DART(sb=15)\", \"RF(sb=15)\",\n",
    "        \"BART(sb=30)\", \"DART(sb=30)\", \"RF(sb=30)\"),\n",
    "       main=\"Figure 2: F1 scores for evaluating methods (N=100)\",\n",
    "        ylab=\"F1\",\n",
    "        xlab=\"Method and mean size of the block (associated with P)\")"
   ]
  },
  {
   "cell_type": "code",
   "execution_count": 7,
   "metadata": {
    "vscode": {
     "languageId": "r"
    }
   },
   "outputs": [
    {
     "data": {
      "image/png": "[encoded data removed]",
      "text/plain": [
       "Plot with title \"Figure 3: F1 scores for evaluating methods (N=200)\""
      ]
     },
     "metadata": {
      "image/png": {
       "height": 300,
       "width": 900
      }
     },
     "output_type": "display_data"
    }
   ],
   "source": [
    "boxplot(ev5$F1BART[201:300],ev5$F1DART[201:300],ev5$F1RF[201:300],\n",
    "        ev15$F1BART[201:300],ev15$F1DART[201:300],ev15$F1RF[201:300],\n",
    "        ev30$F1BART[201:300],ev30$F1DART[201:300],ev30$F1RF[201:300],\n",
    "        names = c(\"BART(sb=5)\", \"DART(sb=5)\", \"RF(sb=5)\",\n",
    "        \"BART(sb=15)\", \"DART(sb=15)\", \"RF(sb=15)\",\n",
    "        \"BART(sb=30)\", \"DART(sb=30)\", \"RF(sb=30)\"),\n",
    "       main=\"Figure 3: F1 scores for evaluating methods (N=200)\",\n",
    "        ylab=\"F1\",\n",
    "        xlab=\"Method and mean size of the block (associated with P)\")"
   ]
  },
  {
   "cell_type": "markdown",
   "metadata": {},
   "source": [
    "##### Table 3: Results of the simulation study for sb = 15 and associated P  ≈ 1500. The best result for each category is inside exclamation points."
   ]
  },
  {
   "cell_type": "code",
   "execution_count": 8,
   "metadata": {
    "vscode": {
     "languageId": "r"
    }
   },
   "outputs": [
    {
     "data": {
      "text/html": [
       "<table class=\"dataframe\">\n",
       "<caption>A matrix: 4 × 12 of type chr</caption>\n",
       "<thead>\n",
       "\t<tr><th></th><th scope=col>N=50</th><th scope=col></th><th scope=col></th><th scope=col></th><th scope=col>N=100</th><th scope=col></th><th scope=col></th><th scope=col></th><th scope=col>N=200</th><th scope=col></th><th scope=col></th><th scope=col></th></tr>\n",
       "</thead>\n",
       "<tbody>\n",
       "\t<tr><th scope=row></th><td>recall    </td><td>precision </td><td>F1       </td><td>accuracy  </td><td>recall    </td><td>precision </td><td>F1        </td><td>accuracy  </td><td>recall   </td><td>precision </td><td>F1        </td><td>accuracy  </td></tr>\n",
       "\t<tr><th scope=row>BART</th><td>0.4761    </td><td>! 0.6373 !</td><td>! 0.721 !</td><td>0.6459    </td><td>! 0.5664 !</td><td>0.6362    </td><td>! 0.7676 !</td><td>! 0.6564 !</td><td>! 0.477 !</td><td>! 0.6532 !</td><td>! 0.7267 !</td><td>! 0.6661 !</td></tr>\n",
       "\t<tr><th scope=row>DART</th><td>0.486     </td><td>0.5966    </td><td>0.6682   </td><td>! 0.6478 !</td><td>0.5491    </td><td>! 0.6418 !</td><td>0.6679    </td><td>0.6508    </td><td>0.4751   </td><td>0.5995    </td><td>0.6744    </td><td>0.6597    </td></tr>\n",
       "\t<tr><th scope=row>RF</th><td>! 0.4871 !</td><td>0.5854    </td><td>0.565    </td><td>0.6458    </td><td>0.5533    </td><td>0.6125    </td><td>0.6499    </td><td>0.6509    </td><td>0.4759   </td><td>0.6067    </td><td>0.6884    </td><td>0.665     </td></tr>\n",
       "</tbody>\n",
       "</table>\n"
      ],
      "text/latex": [
       "A matrix: 4 × 12 of type chr\n",
       "\\begin{tabular}{r|llllllllllll}\n",
       "  & N=50 &  &  &  & N=100 &  &  &  & N=200 &  &  & \\\\\n",
       "\\hline\n",
       "\t & recall     & precision  & F1        & accuracy   & recall     & precision  & F1         & accuracy   & recall    & precision  & F1         & accuracy  \\\\\n",
       "\tBART & 0.4761     & ! 0.6373 ! & ! 0.721 ! & 0.6459     & ! 0.5664 ! & 0.6362     & ! 0.7676 ! & ! 0.6564 ! & ! 0.477 ! & ! 0.6532 ! & ! 0.7267 ! & ! 0.6661 !\\\\\n",
       "\tDART & 0.486      & 0.5966     & 0.6682    & ! 0.6478 ! & 0.5491     & ! 0.6418 ! & 0.6679     & 0.6508     & 0.4751    & 0.5995     & 0.6744     & 0.6597    \\\\\n",
       "\tRF & ! 0.4871 ! & 0.5854     & 0.565     & 0.6458     & 0.5533     & 0.6125     & 0.6499     & 0.6509     & 0.4759    & 0.6067     & 0.6884     & 0.665     \\\\\n",
       "\\end{tabular}\n"
      ],
      "text/markdown": [
       "\n",
       "A matrix: 4 × 12 of type chr\n",
       "\n",
       "| <!--/--> | N=50 | <!----> | <!----> | <!----> | N=100 | <!----> | <!----> | <!----> | N=200 | <!----> | <!----> | <!----> |\n",
       "|---|---|---|---|---|---|---|---|---|---|---|---|---|\n",
       "| <!----> | recall     | precision  | F1        | accuracy   | recall     | precision  | F1         | accuracy   | recall    | precision  | F1         | accuracy   |\n",
       "| BART | 0.4761     | ! 0.6373 ! | ! 0.721 ! | 0.6459     | ! 0.5664 ! | 0.6362     | ! 0.7676 ! | ! 0.6564 ! | ! 0.477 ! | ! 0.6532 ! | ! 0.7267 ! | ! 0.6661 ! |\n",
       "| DART | 0.486      | 0.5966     | 0.6682    | ! 0.6478 ! | 0.5491     | ! 0.6418 ! | 0.6679     | 0.6508     | 0.4751    | 0.5995     | 0.6744     | 0.6597     |\n",
       "| RF | ! 0.4871 ! | 0.5854     | 0.565     | 0.6458     | 0.5533     | 0.6125     | 0.6499     | 0.6509     | 0.4759    | 0.6067     | 0.6884     | 0.665      |\n",
       "\n"
      ],
      "text/plain": [
       "     N=50                                       N=100                \n",
       "     recall     precision  F1        accuracy   recall     precision \n",
       "BART 0.4761     ! 0.6373 ! ! 0.721 ! 0.6459     ! 0.5664 ! 0.6362    \n",
       "DART 0.486      0.5966     0.6682    ! 0.6478 ! 0.5491     ! 0.6418 !\n",
       "RF   ! 0.4871 ! 0.5854     0.565     0.6458     0.5533     0.6125    \n",
       "                           N=200                                     \n",
       "     F1         accuracy   recall    precision  F1         accuracy  \n",
       "BART ! 0.7676 ! ! 0.6564 ! ! 0.477 ! ! 0.6532 ! ! 0.7267 ! ! 0.6661 !\n",
       "DART 0.6679     0.6508     0.4751    0.5995     0.6744     0.6597    \n",
       "RF   0.6499     0.6509     0.4759    0.6067     0.6884     0.665     "
      ]
     },
     "metadata": {},
     "output_type": "display_data"
    }
   ],
   "source": [
    "result_table(simulations_res15)"
   ]
  },
  {
   "cell_type": "markdown",
   "metadata": {},
   "source": [
    "-------\n",
    "Notebook by Aida Takhmazova\n",
    "\n",
    "---"
   ]
  }
 ],
 "metadata": {
  "kernelspec": {
   "display_name": "R",
   "language": "R",
   "name": "ir"
  },
  "language_info": {
   "codemirror_mode": "r",
   "file_extension": ".r",
   "mimetype": "text/x-r-source",
   "name": "R",
   "pygments_lexer": "r",
   "version": "4.1.0"
  }
 },
 "nbformat": 4,
 "nbformat_minor": 2
}
